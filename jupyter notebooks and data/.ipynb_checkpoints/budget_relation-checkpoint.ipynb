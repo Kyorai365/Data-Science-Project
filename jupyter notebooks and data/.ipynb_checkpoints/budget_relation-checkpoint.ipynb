{
 "cells": [
  {
   "cell_type": "markdown",
   "id": "e67bfd74",
   "metadata": {},
   "source": [
    "### Relation to Budget"
   ]
  },
  {
   "cell_type": "code",
   "execution_count": 1,
   "id": "fa31bd16",
   "metadata": {},
   "outputs": [],
   "source": [
    "import pandas as pd\n",
    "import plotly.express as px\n",
    "import ipywidgets as widgets\n",
    "from ipywidgets import interact"
   ]
  },
  {
   "cell_type": "code",
   "execution_count": 2,
   "id": "de8701b8",
   "metadata": {},
   "outputs": [],
   "source": [
    "# Create dataframe\n",
    "df = pd.read_csv('imdb_budget_revenue_data.csv')"
   ]
  },
  {
   "cell_type": "code",
   "execution_count": 3,
   "id": "931e2b18",
   "metadata": {},
   "outputs": [],
   "source": [
    "# Rename column names for more clearity in the visualization.\n",
    "df = df.rename(columns={'numVotes':'Number of Votes','averageRating': 'Rating'})"
   ]
  },
  {
   "cell_type": "code",
   "execution_count": 7,
   "id": "d7e9dc2a",
   "metadata": {},
   "outputs": [
    {
     "data": {
      "application/vnd.jupyter.widget-view+json": {
       "model_id": "93b36c13f7bc4ef5bd658c820ae0a907",
       "version_major": 2,
       "version_minor": 0
      },
      "text/plain": [
       "interactive(children=(Dropdown(description='metric', options=('Revenue', 'Number of Votes', 'Rating'), value='…"
      ]
     },
     "metadata": {},
     "output_type": "display_data"
    },
    {
     "data": {
      "text/plain": [
       "<function __main__.budget_scatter(metric)>"
      ]
     },
     "execution_count": 7,
     "metadata": {},
     "output_type": "execute_result"
    }
   ],
   "source": [
    "# Function to create a scatterplot for our data.  \n",
    "def budget_scatter(metric):\n",
    "    budget_relation_scatter = px.scatter(df, x='Budget', y=metric,hover_data={'originalTitle':True}, trendline='ols') # Create scatterplot with fitted ols line\n",
    "    budget_relation_scatter.update_layout(title='Relation of the budget of a movie to the '+ metric ,\n",
    "                  xaxis_title='Budget',\n",
    "                  yaxis_title=metric,\n",
    "                  template='plotly_white') # Adjust layout of our plot\n",
    "    budget_relation_scatter.show()\n",
    "interact(budget_scatter,metric=widgets.Dropdown(options=['Revenue','Number of Votes','Rating']), value='Revenue')\n",
    "#budget_scatter('Revenue')"
   ]
  },
  {
   "cell_type": "code",
   "execution_count": null,
   "id": "52f6d003",
   "metadata": {},
   "outputs": [],
   "source": []
  }
 ],
 "metadata": {
  "kernelspec": {
   "display_name": "Python 3 (ipykernel)",
   "language": "python",
   "name": "python3"
  },
  "language_info": {
   "codemirror_mode": {
    "name": "ipython",
    "version": 3
   },
   "file_extension": ".py",
   "mimetype": "text/x-python",
   "name": "python",
   "nbconvert_exporter": "python",
   "pygments_lexer": "ipython3",
   "version": "3.11.8"
  }
 },
 "nbformat": 4,
 "nbformat_minor": 5
}
