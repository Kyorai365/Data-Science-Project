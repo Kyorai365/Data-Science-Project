{
 "cells": [
  {
   "cell_type": "code",
   "execution_count": 2,
   "id": "61923fce",
   "metadata": {},
   "outputs": [],
   "source": [
    "import pandas as pd"
   ]
  },
  {
   "cell_type": "code",
   "execution_count": 4,
   "id": "0b5bdd18",
   "metadata": {},
   "outputs": [],
   "source": [
    "# Create dataframes.\n",
    "oscars_df = pd.read_csv(\"oscars_merged.csv\")\n",
    "mergable0 = pd.read_csv(\"mergable_tmdb_data0.csv\")\n",
    "mergable1 = pd.read_csv(\"mergable_tmdb_data1.csv\")\n",
    "mergable2 = pd.read_csv(\"mergable_tmdb_data2.csv\")\n",
    "mergable3 = pd.read_csv(\"mergable_tmdb_data2.csv\")\n",
    "mergable4 = pd.read_csv(\"mergable_tmdb_data3.csv\")\n",
    "mergable5 = pd.read_csv(\"mergable_tmdb_data4.csv\")\n"
   ]
  },
  {
   "cell_type": "code",
   "execution_count": 8,
   "id": "d6e74ee1",
   "metadata": {},
   "outputs": [],
   "source": [
    "# Conctat the 6 mergable dataframes into one to get our budget and revenue data into one.\n",
    "concat_tmdb = pd.concat([mergable0,mergable1,mergable2,mergable3,mergable4,mergable5])"
   ]
  },
  {
   "cell_type": "code",
   "execution_count": 9,
   "id": "80730a07",
   "metadata": {},
   "outputs": [
    {
     "name": "stdout",
     "output_type": "stream",
     "text": [
      "        Movie_id  Budget  Revenue\n",
      "0      tt0000009     0.0      0.0\n",
      "1      tt0000574     0.0      0.0\n",
      "2      tt0000591     0.0      0.0\n",
      "3      tt0000679     0.0      0.0\n",
      "4            NaN     NaN      NaN\n",
      "...          ...     ...      ...\n",
      "40189  tt3815136     0.0      0.0\n",
      "40190  tt3815248     0.0      0.0\n",
      "40191  tt3815340     NaN      NaN\n",
      "40192  tt3815424     0.0      0.0\n",
      "40193  tt3815426     0.0      0.0\n",
      "\n",
      "[241424 rows x 3 columns]\n"
     ]
    }
   ],
   "source": [
    "print(concat_tmdb)"
   ]
  },
  {
   "cell_type": "code",
   "execution_count": 11,
   "id": "bfaddf9e",
   "metadata": {},
   "outputs": [],
   "source": [
    "concat_tmdb = concat_tmdb.dropna(subset=[\"Movie_id\"]) # Drop movie_id which is the tmdb ID, which we dont need since we use the imdb ID."
   ]
  },
  {
   "cell_type": "code",
   "execution_count": 13,
   "id": "0c1caa06",
   "metadata": {},
   "outputs": [],
   "source": [
    "concat_tmdb = concat_tmdb.fillna(0) # Fill all na entries with 0."
   ]
  },
  {
   "cell_type": "code",
   "execution_count": 34,
   "id": "e3b1d572",
   "metadata": {},
   "outputs": [],
   "source": [
    "filtered_tmdb = concat_tmdb[concat_tmdb[\"Revenue\"] >= 50000] # Remove all rows where revenue is below 50000.\n",
    "filtered_tmdb = filtered_tmdb[filtered_tmdb[\"Budget\"] >= 20000] # Remove all rows where budget is below 20000."
   ]
  },
  {
   "cell_type": "code",
   "execution_count": 35,
   "id": "fc98a0cc",
   "metadata": {},
   "outputs": [
    {
     "name": "stdout",
     "output_type": "stream",
     "text": [
      "        Movie_id      Budget     Revenue\n",
      "113    tt0004391   2221000.0   5773000.0\n",
      "143    tt0004972    100000.0  11000000.0\n",
      "230    tt0006140     22472.0    102437.0\n",
      "244    tt0006333    200000.0   8000000.0\n",
      "368    tt0004391   2221000.0   5773000.0\n",
      "...          ...         ...         ...\n",
      "40032  tt3799694  50000000.0  62800000.0\n",
      "40052  tt3801252    640000.0   1400000.0\n",
      "40115  tt3808342   1000000.0   1777043.0\n",
      "40147  tt3811906  40000000.0  34900000.0\n",
      "40171  tt3813310   5000000.0    143658.0\n",
      "\n",
      "[10718 rows x 3 columns]\n"
     ]
    }
   ],
   "source": [
    "print(filtered_tmdb)"
   ]
  },
  {
   "cell_type": "code",
   "execution_count": 37,
   "id": "be671a96",
   "metadata": {},
   "outputs": [],
   "source": [
    "filtered_tmdb.to_csv(\"budget_revenue_data.csv\") # Save dataframe as csv file."
   ]
  }
 ],
 "metadata": {
  "kernelspec": {
   "display_name": "Python 3 (ipykernel)",
   "language": "python",
   "name": "python3"
  },
  "language_info": {
   "codemirror_mode": {
    "name": "ipython",
    "version": 3
   },
   "file_extension": ".py",
   "mimetype": "text/x-python",
   "name": "python",
   "nbconvert_exporter": "python",
   "pygments_lexer": "ipython3",
   "version": "3.11.8"
  }
 },
 "nbformat": 4,
 "nbformat_minor": 5
}
