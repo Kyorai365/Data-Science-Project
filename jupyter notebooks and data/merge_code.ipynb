{
 "cells": [
  {
   "cell_type": "code",
   "execution_count": null,
   "id": "4721e567-7f7a-416a-915c-8ed959a8ba11",
   "metadata": {},
   "outputs": [],
   "source": [
    "import pandas as pd\n",
    "\n",
    "# Load the data\n",
    "df_oscars = pd.read_csv(\"oscars_merged.csv\")\n",
    "df_names = pd.read_csv(\"name_basics_data.tsv\", sep='\\t')\n",
    "\n",
    "# Extract the relevant columns from the Oscars data\n",
    "df_oscars = df_oscars[['directors', 'writers']]\n",
    "\n",
    "# Divide the entries into the columns\n",
    "df_oscars['directors'] = df_oscars['directors'].apply(lambda x: x.split(','))\n",
    "df_oscars['writers'] = df_oscars['writers'].apply(lambda x: x.split(','))\n",
    "\n",
    "# Unpack the lists into separate lines\n",
    "df_directors = df_oscars.explode('directors')\n",
    "df_writers = df_oscars.explode('writers')\n",
    "\n",
    "# Merge the data with the names based on nconst\n",
    "merged_directors = pd.merge(df_directors, df_names[['nconst', 'primaryName', 'knownForTitles']], left_on='directors', right_on='nconst', how='left')\n",
    "merged_writers = pd.merge(df_writers, df_names[['nconst', 'primaryName', 'knownForTitles']], left_on='writers', right_on='nconst', how='left')\n",
    "\n",
    "# Convert the lists to strings to remove duplicates\n",
    "merged_directors['knownForTitles'] = merged_directors['knownForTitles'].apply(lambda x: ','.join(x) if isinstance(x, list) else x)\n",
    "merged_writers['knownForTitles'] = merged_writers['knownForTitles'].apply(lambda x: ','.join(x) if isinstance(x, list) else x)\n",
    "\n",
    "# Remove duplicates\n",
    "merged_directors = merged_directors.drop_duplicates(subset=['directors', 'primaryName', 'knownForTitles'])\n",
    "merged_writers = merged_writers.drop_duplicates(subset=['writers', 'primaryName', 'knownForTitles'])\n",
    "\n",
    "# Select only the relevant columns\n",
    "merged_directors = merged_directors[['directors', 'primaryName', 'knownForTitles']]\n",
    "merged_writers = merged_writers[['writers', 'primaryName', 'knownForTitles']]\n",
    "\n",
    "# Save the merged data in new files\n",
    "merged_directors.to_csv(\"directors_merged.csv\", index=False)\n",
    "merged_writers.to_csv(\"writers_merged.csv\", index=False)\n",
    "\n",
    "\n"
   ]
  },
  {
   "cell_type": "code",
   "execution_count": null,
   "id": "c221fe7f-311a-406e-b3e3-34b3aa657c5d",
   "metadata": {},
   "outputs": [],
   "source": []
  }
 ],
 "metadata": {
  "kernelspec": {
   "display_name": "Python 3 (ipykernel)",
   "language": "python",
   "name": "python3"
  },
  "language_info": {
   "codemirror_mode": {
    "name": "ipython",
    "version": 3
   },
   "file_extension": ".py",
   "mimetype": "text/x-python",
   "name": "python",
   "nbconvert_exporter": "python",
   "pygments_lexer": "ipython3",
   "version": "3.12.2"
  }
 },
 "nbformat": 4,
 "nbformat_minor": 5
}
