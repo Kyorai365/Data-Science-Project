{
 "cells": [
  {
   "cell_type": "code",
   "execution_count": 1,
   "id": "b1230a20-a288-4bf9-93d8-69a80fb71f60",
   "metadata": {},
   "outputs": [
    {
     "data": {
      "application/vnd.jupyter.widget-view+json": {
       "model_id": "ee5789b01628485a89bfb52026033ca2",
       "version_major": 2,
       "version_minor": 0
      },
      "text/plain": [
       "interactive(children=(Dropdown(description='Select metric:', options=('rating', 'number of votes'), value='rat…"
      ]
     },
     "metadata": {},
     "output_type": "display_data"
    },
    {
     "data": {
      "text/plain": [
       "<function __main__.display_movies(metric, selection, min_votes, num_movies)>"
      ]
     },
     "execution_count": 1,
     "metadata": {},
     "output_type": "execute_result"
    }
   ],
   "source": [
    "import pandas as pd\n",
    "from ipywidgets import interact, widgets\n",
    "\n",
    "# Show all rows and colums\n",
    "pd.set_option('display.max_rows', None)  \n",
    "pd.set_option('display.max_columns', None)  \n",
    "\n",
    "# Load the dataset\n",
    "df = pd.read_csv('oscars_merged.csv')\n",
    "\n",
    "# Function to filter and display movies based on selection\n",
    "def display_movies(metric, selection, min_votes, num_movies):\n",
    "    if selection == 'best':\n",
    "        # Filter movies based on minimum number of votes\n",
    "        filtered_df = df[df['numVotes'] >= min_votes]\n",
    "        \n",
    "        # Display top n best movies based on selected metric\n",
    "        if metric == 'rating':\n",
    "            top_movies = filtered_df.nlargest(num_movies, 'averageRating')\n",
    "        elif metric == 'number of votes':\n",
    "            top_movies = filtered_df.nlargest(num_movies, 'numVotes')\n",
    "        \n",
    "        # Display only title, rating, and number of votes with enumeration starting from 1\n",
    "        top_movies = top_movies[['originalTitle', 'averageRating', 'numVotes']]\n",
    "        top_movies.reset_index(drop=True, inplace=True)\n",
    "        top_movies.index += 1\n",
    "        top_movies.rename_axis(f'Top {num_movies}', inplace=True)\n",
    "        \n",
    "        # Format averageRating column to one decimal place\n",
    "        top_movies['averageRating'] = top_movies['averageRating'].round(1)\n",
    "        \n",
    "        # Format numVotes column to integer (without decimal places)\n",
    "        top_movies['numVotes'] = top_movies['numVotes'].astype(int)\n",
    "        \n",
    "        # Display styled dataframe\n",
    "        display(top_movies)\n",
    "    elif selection == 'worst':\n",
    "        # Filter movies based on minimum number of votes\n",
    "        filtered_df = df[df['numVotes'] >= min_votes]\n",
    "        \n",
    "        # Display bottom n worst movies based on selected metric\n",
    "        if metric == 'rating':\n",
    "            worst_movies = filtered_df.nsmallest(num_movies, 'averageRating')\n",
    "        elif metric == 'number of votes':\n",
    "            worst_movies = filtered_df.nsmallest(num_movies, 'numVotes')\n",
    "        \n",
    "        # Display only title, rating, and number of votes with enumeration starting from 1\n",
    "        worst_movies = worst_movies[['originalTitle', 'averageRating', 'numVotes']]\n",
    "        worst_movies.reset_index(drop=True, inplace=True)\n",
    "        worst_movies.index += 1\n",
    "        worst_movies.rename_axis(f'Worst {num_movies}', inplace=True)\n",
    "        \n",
    "        # Format averageRating column to one decimal place\n",
    "        worst_movies['averageRating'] = worst_movies['averageRating'].round(1)\n",
    "        \n",
    "        # Format numVotes column to integer (without decimal places)\n",
    "        worst_movies['numVotes'] = worst_movies['numVotes'].astype(int)\n",
    "        \n",
    "        # Display styled dataframe\n",
    "        display(worst_movies)\n",
    "\n",
    "# Create dropdown widgets for metric and selection\n",
    "metric_dropdown = widgets.Dropdown(\n",
    "    options=['rating', 'number of votes'],\n",
    "    value='rating',\n",
    "    description='Select metric:',\n",
    "    disabled=False,\n",
    ")\n",
    "\n",
    "selection_dropdown = widgets.Dropdown(\n",
    "    options=['best', 'worst'],\n",
    "    value='best',\n",
    "    description='Select movies:',\n",
    "    disabled=False,\n",
    ")\n",
    "\n",
    "min_votes_slider = widgets.IntSlider(\n",
    "    value=0,\n",
    "    min=0,\n",
    "    max=10000,\n",
    "    step=100,\n",
    "    description='Minimum votes:',\n",
    "    disabled=False,\n",
    "    continuous_update=False,\n",
    "    orientation='horizontal',\n",
    "    readout=True,\n",
    "    readout_format='d'\n",
    ")\n",
    "\n",
    "num_movies_slider = widgets.IntSlider(\n",
    "    value=10,\n",
    "    min=1,\n",
    "    max=200,\n",
    "    step=1,\n",
    "    description='Number of movies:',\n",
    "    disabled=False,\n",
    "    continuous_update=False,\n",
    "    orientation='horizontal',\n",
    "    readout=True,\n",
    "    readout_format='d'\n",
    ")\n",
    "\n",
    "# Interact function to update displayed movies based on metric, selection, minimum votes, and number of movies\n",
    "interact(display_movies, metric=metric_dropdown, selection=selection_dropdown, min_votes=min_votes_slider, num_movies=num_movies_slider)\n",
    "\n"
   ]
  },
  {
   "cell_type": "markdown",
   "id": "63c7b0fc-22ed-416c-9c0b-2e77aae38f43",
   "metadata": {},
   "source": [
    "For Directors:"
   ]
  },
  {
   "cell_type": "code",
   "execution_count": 2,
   "id": "88ec5f03-8c95-4745-a25f-20a733318d76",
   "metadata": {},
   "outputs": [
    {
     "data": {
      "application/vnd.jupyter.widget-view+json": {
       "model_id": "34f6b4a6354441fca1060d6b0ad9f71e",
       "version_major": 2,
       "version_minor": 0
      },
      "text/plain": [
       "interactive(children=(IntSlider(value=10, description='Mindestanzahl Filme', min=1), IntSlider(value=10, descr…"
      ]
     },
     "metadata": {},
     "output_type": "display_data"
    }
   ],
   "source": [
    "import pandas as pd\n",
    "from ipywidgets import interact, widgets\n",
    "\n",
    "# Load the dataset\n",
    "df = pd.read_csv(\"oscars_merged.csv\")\n",
    "df = df[df.releaseYear >= 1915]\n",
    "df_names = pd.read_csv(\"directors_merged.csv\")\n",
    "\n",
    "# Function to break a string to do a list.\n",
    "def split_words(string_with_commas):\n",
    "    return string_with_commas.split(',')\n",
    "    \n",
    "# Extract directors and update 'directors' column.\n",
    "df['directors'] = df['directors'].apply(split_words)\n",
    "\n",
    "# Explode 'directors' column to give each director their own row.\n",
    "directors_exploded = df.explode('directors')\n",
    "\n",
    "# Grouping by directors and calculating the average rating and number of films\n",
    "director_rating = directors_exploded.groupby(\"directors\")[\"averageRating\"].agg(['mean','count']).reset_index()\n",
    "director_rating.columns = ['directors', 'averageRating', 'movieCount']\n",
    "\n",
    "# Interactive feature to display the top and flop directors based on the selected parameters\n",
    "@interact(min_movies=widgets.IntSlider(min=1, max=100, step=1, value=10, description='Mindestanzahl Filme'),\n",
    "          num_directors=widgets.IntSlider(min=1, max=200, step=1, value=10, description='Anzahl der Regisseure'),\n",
    "          selection=['best', 'worst'])\n",
    "def display_directors(min_movies, num_directors, selection):\n",
    "    # Filter directors by minimum number of films\n",
    "    atleast_y_movies_d = director_rating[director_rating[\"movieCount\"] >= min_movies]\n",
    "    # Selecting top/lowest n directors based on average rating\n",
    "    if selection == 'best':\n",
    "        selected_directors = atleast_y_movies_d.nlargest(num_directors, 'averageRating')\n",
    "    else:\n",
    "        selected_directors = atleast_y_movies_d.nsmallest(num_directors, 'averageRating')\n",
    "    # Merging the data with the names of the directors\n",
    "    selected_directors = selected_directors.merge(df_names[['directors','primaryName','knownForTitles']], left_on='directors', right_on='directors', how='left')\n",
    "    # Show results with index starting from 1\n",
    "    selected_directors.index = range(1, len(selected_directors) + 1)\n",
    "    # Replace titleID with original title\n",
    "    selected_directors['knownForTitles'] = selected_directors['knownForTitles'].map(lambda x: df[df['titleID'].isin(x.split(','))]['originalTitle'].tolist())\n",
    "    # Increasing the column of the most famous titles\n",
    "    pd.set_option('display.max_colwidth', None)\n",
    "    # View results\n",
    "    display(selected_directors[['primaryName', 'averageRating', 'movieCount', 'knownForTitles']])\n",
    "    # Reset column width option\n",
    "    pd.reset_option('display.max_colwidth')\n"
   ]
  },
  {
   "cell_type": "code",
   "execution_count": null,
   "id": "b61a2676-6e3b-4d15-a35e-76cf97c5e514",
   "metadata": {},
   "outputs": [],
   "source": []
  },
  {
   "cell_type": "code",
   "execution_count": null,
   "id": "65ff2427-5d49-474c-a140-bcd967b46411",
   "metadata": {},
   "outputs": [],
   "source": [
    "For Writers:"
   ]
  },
  {
   "cell_type": "code",
   "execution_count": 1,
   "id": "9b2e30e0-7d50-4150-baf9-f70d64f2fd50",
   "metadata": {},
   "outputs": [
    {
     "data": {
      "application/vnd.jupyter.widget-view+json": {
       "model_id": "bb55e908524c475b9eb918e8f1925aea",
       "version_major": 2,
       "version_minor": 0
      },
      "text/plain": [
       "interactive(children=(IntSlider(value=10, description='Mindestanzahl Filme', min=1), IntSlider(value=10, descr…"
      ]
     },
     "metadata": {},
     "output_type": "display_data"
    }
   ],
   "source": [
    "import pandas as pd\n",
    "from ipywidgets import interact, widgets\n",
    "\n",
    "# load the dataset\n",
    "df = pd.read_csv(\"oscars_merged.csv\")\n",
    "df = df[df.releaseYear >= 1915]\n",
    "df_names = pd.read_csv(\"writers_merged.csv\")\n",
    "\n",
    "# Function to break a string to do a list.\n",
    "def split_words(string_with_commas):\n",
    "    return string_with_commas.split(',')\n",
    "    \n",
    "# Extract writers and update 'writers' column.\n",
    "df['writers'] = df['writers'].apply(split_words)\n",
    "\n",
    "# Explode 'writers' column to give each writers their own row.\n",
    "writers_exploded = df.explode('writers')\n",
    "\n",
    "# Grouping by writers and calculating average rating and number of films\n",
    "writer_rating = writers_exploded.groupby(\"writers\")[\"averageRating\"].agg(['mean','count']).reset_index()\n",
    "writer_rating.columns = ['writers', 'averageRating', 'movieCount']\n",
    "\n",
    "# Interactive feature to display top and flop writers based on the selected parameters\n",
    "@interact(min_movies=widgets.IntSlider(min=1, max=100, step=1, value=10, description='Mindestanzahl Filme'),\n",
    "          num_writers=widgets.IntSlider(min=1, max=200, step=1, value=10, description='Anzahl der Schriftsteller'),\n",
    "          selection=['best', 'worst'])\n",
    "def display_writers(min_movies, num_writers, selection):\n",
    "    # Filter writers by minimum number of films\n",
    "    atleast_y_movies_w = writer_rating[writer_rating[\"movieCount\"] >= min_movies]\n",
    "    # Selecting best/lowest n writers based on average rating\n",
    "    if selection == 'best':\n",
    "        selected_writers = atleast_y_movies_w.nlargest(num_writers, 'averageRating')\n",
    "    else:\n",
    "        selected_writers = atleast_y_movies_w.nsmallest(num_writers, 'averageRating')\n",
    "    # Merging the data with the names of the writers\n",
    "    selected_writers = selected_writers.merge(df_names[['writers','primaryName','knownForTitles']], left_on='writers', right_on='writers', how='left')\n",
    "    # Show results with index starting from 1\n",
    "    selected_writers.index = range(1, len(selected_writers) + 1)\n",
    "    # Replace titleID with original title\n",
    "    selected_writers['knownForTitles'] = selected_writers['knownForTitles'].map(lambda x: df[df['titleID'].isin(x.split(','))]['originalTitle'].tolist())\n",
    "    # Increasing the column of the most famous titles\n",
    "    pd.set_option('display.max_colwidth', None)\n",
    "    # View results\n",
    "    display(selected_writers[['primaryName', 'averageRating', 'movieCount', 'knownForTitles']])\n",
    "    # Zurücksetzen der Spaltenbreitenoption\n",
    "    pd.reset_option('display.max_colwidth')\n"
   ]
  },
  {
   "cell_type": "code",
   "execution_count": null,
   "id": "cd7446ff-9cbf-4f9a-ba37-7a905bbabe80",
   "metadata": {},
   "outputs": [],
   "source": []
  }
 ],
 "metadata": {
  "kernelspec": {
   "display_name": "Python 3 (ipykernel)",
   "language": "python",
   "name": "python3"
  },
  "language_info": {
   "codemirror_mode": {
    "name": "ipython",
    "version": 3
   },
   "file_extension": ".py",
   "mimetype": "text/x-python",
   "name": "python",
   "nbconvert_exporter": "python",
   "pygments_lexer": "ipython3",
   "version": "3.12.2"
  }
 },
 "nbformat": 4,
 "nbformat_minor": 5
}
